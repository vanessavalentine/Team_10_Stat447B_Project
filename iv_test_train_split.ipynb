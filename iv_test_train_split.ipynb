{
 "cells": [
  {
   "cell_type": "code",
   "execution_count": 1,
   "id": "de895143-5d4b-4c48-9f26-3957df46ad89",
   "metadata": {},
   "outputs": [],
   "source": [
    "from sklearn.model_selection import train_test_split\n",
    "import pandas as pd\n",
    "import numpy as np\n",
    "import seaborn as sns\n",
    "import matplotlib.pyplot as plt\n",
    "import scipy.stats as stats\n",
    "from sklearn.preprocessing import StandardScaler\n",
    "\n",
    "df = pd.read_csv(\"02b_wrangled_data_airbnb_vancouver.csv\")\n",
    "df = df.drop(\"Unnamed: 0\", axis=1)\n",
    "test_size = 0.2\n",
    "seed = 447\n",
    "target = 'price'\n",
    "\n",
    "# Split the data into train and test sets\n",
    "X = df.drop(target, axis=1)\n",
    "y = df[target]\n",
    "y_log = np.log(y) # apply log transform to the target variable\n",
    "X_train, X_test, y_train, y_test = train_test_split(X, y_log, test_size=test_size, random_state=seed)\n",
    "#X_train, X_test, y_train, y_test = train_test_split(X, y, test_size=test_size, random_state=seed)"
   ]
  },
  {
   "cell_type": "code",
   "execution_count": 2,
   "id": "ecd8734c-543d-4a04-a8ad-ffb4840c9824",
   "metadata": {},
   "outputs": [],
   "source": [
    "## distribution plot of price log\n",
    "#sns.distplot(y_log, kde=True,);\n",
    "#fig = plt.figure()\n",
    "# residual plot of price log\n",
    "#res = stats.probplot(y_log, plot=plt)\n",
    "#skewness and kurtosis\n",
    "#print(\"Skewness: %f\" % y_log.skew())\n",
    "#print(\"Kurtosis: %f\" % y_log.kurt())"
   ]
  },
  {
   "cell_type": "code",
   "execution_count": 3,
   "id": "d836479d-2a6f-47b1-963f-ca669f7cc1cc",
   "metadata": {},
   "outputs": [],
   "source": [
    "## Plot the distribution of the target variable before and after log transform\n",
    "#fig, axs = plt.subplots(1, 2, figsize=(12, 6))\n",
    "#sns.histplot(data=y, kde=True, ax=axs[0])\n",
    "#axs[0].set_xlabel('Price')\n",
    "#axs[0].set_ylabel('Frequency')\n",
    "#axs[0].set_title('Distribution of Price (Before Log Transform)')\n",
    "#sns.histplot(data=y_log, kde=True, ax=axs[1])\n",
    "#axs[1].set_xlabel('Log(Price)')\n",
    "#axs[1].set_ylabel('Frequency')\n",
    "#axs[1].set_title('Distribution of Log(Price) (After Log Transform)')\n",
    "#plt.show()"
   ]
  },
  {
   "cell_type": "code",
   "execution_count": 4,
   "id": "93574672-c2a5-42ed-949e-31a6c8b453c4",
   "metadata": {},
   "outputs": [
    {
     "name": "stdout",
     "output_type": "stream",
     "text": [
      "price\n",
      "<class 'pandas.core.series.Series'>\n",
      "Int64Index: 4456 entries, 2594 to 4449\n",
      "Series name: price\n",
      "Non-Null Count  Dtype  \n",
      "--------------  -----  \n",
      "4456 non-null   float64\n",
      "dtypes: float64(1)\n",
      "memory usage: 69.6 KB\n"
     ]
    }
   ],
   "source": [
    "# Scale the data\n",
    "sc = StandardScaler()\n",
    "X_train = sc.fit_transform(X_train)\n",
    "X_test  = sc.transform(X_test)\n",
    "\n",
    "print(y_train.name)\n",
    "y_train.info()"
   ]
  }
 ],
 "metadata": {
  "kernelspec": {
   "display_name": "Python 3 (ipykernel)",
   "language": "python",
   "name": "python3"
  },
  "language_info": {
   "codemirror_mode": {
    "name": "ipython",
    "version": 3
   },
   "file_extension": ".py",
   "mimetype": "text/x-python",
   "name": "python",
   "nbconvert_exporter": "python",
   "pygments_lexer": "ipython3",
   "version": "3.10.7"
  }
 },
 "nbformat": 4,
 "nbformat_minor": 5
}
